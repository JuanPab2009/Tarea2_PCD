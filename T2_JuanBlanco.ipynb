{
 "cells": [
  {
   "metadata": {},
   "cell_type": "markdown",
   "source": [
    "# Resumen MLOPS\n",
    "\n",
    "##### Juan Pablo Blanco Lemus\n",
    "\n",
    "Resumen de la lectura [A gentle introduction to MLOps](https://towardsdatascience.com/a-gentle-introduction-to-mlops-7d64a3e890ff).\n",
    "\n"
   ],
   "id": "891d882682071564"
  },
  {
   "metadata": {},
   "cell_type": "markdown",
   "source": [
    "#### Primero, ¿qué son `MLOps`?\n",
    "Las `MLOps`o Machine Learning Operations son una serie de procesos que se implementan para poder mandar a producción un modelo de Machine Learning y que no solo quede en un jupyter notebook. Pero para esto se necesitan realizar muchos pasos para que un modelo llegue a producción.\n"
   ],
   "id": "655dbf9acbf2ccc3"
  },
  {
   "metadata": {},
   "cell_type": "markdown",
   "source": [
    "### ¿Para qué necesitamos las MLOPS?\n",
    "En la actual industria son muy necesarias las MLOps por diversos motivos como:\n",
    "+ __Gestión de datos__: Actualmente es muy difícil manejar enormes cantidades de datos por una sola persona, por lo que se necesitan estas técnicas para ser más eficiente.\n",
    "+  __Seguimiento de parámetros__: Pequeños cambios en los parámetros pueden afectar significativamente los resultados.\n",
    "+ __Gestión de características__: El manejo de las features es muy importante para la precisión del modelo.\n",
    "+ __Monitoreo__: Es muy complejo monitorear modelos en producción, ya que se requieren de ajustes continuos basados en datos del mundo real.\n",
    "+ __Actualización continua__: Los modelos tienen que estarse actualizando constantemente, ya que los datos reales van cambiando con el tiempo y se tienen que tomar en cuenta para mantener o mejorar la precisión.\n"
   ],
   "id": "d62229dd4128fcaa"
  },
  {
   "metadata": {},
   "cell_type": "markdown",
   "source": [
    "#### Diferencia entre `DevOps` y `MLOps`\n",
    "\n",
    "+ Las `DevOps` están centradas en el desarrollo y deployment de aplicaciones de software, mientras que las `MLOps` incluyen pasos adicionales como lo son la ingeniería de datos, modelado y monitoreo constante del rendimiento del modelo. "
   ],
   "id": "ca30c2b1e03deee2"
  },
  {
   "metadata": {},
   "cell_type": "markdown",
   "source": [
    "### Etapas de un proyecto de MLOps\n",
    "\n",
    "+ Primero es necesario el scoping, o sea definir el proyecto y verificar que realmente sea necesario utilizar Machine Learning.\n",
    "+ Es necesaria la ingeniería de datos en el proyecto, para recopilar, limpiar y organizar los datos.\n",
    "+ Crear el modelo sería el siguiente paso, en donde lo entrenas para que sea lo más eficiente posible.\n",
    "+ Después sigue el deployment, que sería implementar el modelo en producción.\n",
    "+ Y por último, el monitoreo. Se tiene que supervisar el rendimiento y ajustar según sea necesario."
   ],
   "id": "542725bfbe26afe0"
  },
  {
   "metadata": {},
   "cell_type": "markdown",
   "source": [
    "#### ¿Cuál es la infraestructura de producción de Machine Learning?\n",
    "Para que podamos poner un modelo en producción se necesita mucho más que el ML code, se necesita una infraestructura más robusta que la conforman más partes como las siguientes:\n",
    "\n",
    "+ __Recolección y verificación de datos__: Se tiene que asegurar la validez y actualidad de los datos.\n",
    "+ __Extracción de características__: Para que un modelo sea lo más eficiente posible se deben de seleccionar las características más importates ya que es probable que no requieran de todas.\n",
    "+ __Configuración__: Se tienen que imponer protocolos de comunicación, integración de sistemas y definir como ser van a comunicar los componentes unos con otros.\n",
    "+ __ML code__: En esta etapa es cuando codificamos nuestro modelo \n",
    "+ __Gestión de recursos y herramientas de análisis__: Tenemos que optimizar recursos de hardware ya que muchos de los procesos pueden requerir mucha memoria y se tiene que aprender a optimizar de acuerdo a tu necesidades.\n",
    "+ __Infraestructura de servicio__: Desplegar modelos en la nube o dispositivos de borde, y utilizar sistemas de monitoreo para mantener y actualizar el modelo."
   ],
   "id": "c19870b8c189bffb"
  },
  {
   "metadata": {},
   "cell_type": "markdown",
   "source": [
    "#### Niveles de MLOps:\n",
    "+ __Nivel 0__: Todos los pasos se realizan manualmente.\n",
    "+ __Nivel 1__: Automatización parcial del entrenamiento y análisis del modelo.\n",
    "+ __Nivel 2__: Automatización completa, incluyendo la reentrenamiento automático del modelo cuando cambia el rendimiento o se agregan nuevos datos."
   ],
   "id": "32c2e09c89112d2d"
  }
 ],
 "metadata": {
  "kernelspec": {
   "display_name": "Python 3",
   "language": "python",
   "name": "python3"
  },
  "language_info": {
   "codemirror_mode": {
    "name": "ipython",
    "version": 2
   },
   "file_extension": ".py",
   "mimetype": "text/x-python",
   "name": "python",
   "nbconvert_exporter": "python",
   "pygments_lexer": "ipython2",
   "version": "2.7.6"
  }
 },
 "nbformat": 4,
 "nbformat_minor": 5
}
